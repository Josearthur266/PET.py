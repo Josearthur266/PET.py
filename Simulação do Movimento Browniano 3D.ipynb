{
 "cells": [
  {
   "cell_type": "markdown",
   "id": "5811111d",
   "metadata": {},
   "source": [
    "# Simulação do movimento Browniano 3D"
   ]
  },
  {
   "cell_type": "markdown",
   "id": "2f46396c",
   "metadata": {},
   "source": [
    "* PER - Física\n",
    "* Petiano: José Arthur de Luna Oliveira\n",
    "* Data: 07/12/2022"
   ]
  },
  {
   "cell_type": "markdown",
   "id": "37ec2ee5",
   "metadata": {},
   "source": [
    "O objetivo desse `Notebook` é simular o movimento Browniano, mesmo que esse tema já tenha sido abordado em um `Notebook` antigo [Movimento Browniano](https://github.com/gustavoavb/PET.py/blob/master/MovimentoBrowniano.ipynb) [1], feito por um ex-petiano. Neste `Notebook` fazer um Simulação do Movimento Browniano com várias partículas, 3D e com partículas diatômicas.\n",
    "\n",
    "Este `Notebook` está dividido em 4 seções:\n",
    "* Introdução teórica;\n",
    "* Simulação do Movimento Browniano com uma partícula em 2D;\n",
    "* Simulação do Movimento Browniano com várias partículas em 2D;\n",
    "* Simulação Movimento Browniano em 3D."
   ]
  },
  {
   "cell_type": "markdown",
   "id": "81fc225a",
   "metadata": {},
   "source": [
    "## Importando Bibliotecas "
   ]
  },
  {
   "cell_type": "code",
   "execution_count": 1,
   "id": "2cfdb6c9",
   "metadata": {},
   "outputs": [
    {
     "data": {
      "text/html": [
       "<div id=\"glowscript\" class=\"glowscript\"></div>"
      ],
      "text/plain": [
       "<IPython.core.display.HTML object>"
      ]
     },
     "metadata": {},
     "output_type": "display_data"
    },
    {
     "data": {
      "application/javascript": [
       "if (typeof Jupyter !== \"undefined\") { window.__context = { glowscript_container: $(\"#glowscript\").removeAttr(\"id\")};}else{ element.textContent = ' ';}"
      ],
      "text/plain": [
       "<IPython.core.display.Javascript object>"
      ]
     },
     "metadata": {},
     "output_type": "display_data"
    }
   ],
   "source": [
    "from vpython import*\n",
    "import random as ran\n",
    "import numpy as np"
   ]
  },
  {
   "cell_type": "markdown",
   "id": "d366776c",
   "metadata": {},
   "source": [
    "### Detalhes da Bibliotecas:"
   ]
  },
  {
   "cell_type": "code",
   "execution_count": 2,
   "id": "31ca5932",
   "metadata": {},
   "outputs": [
    {
     "data": {
      "application/json": {
       "Software versions": [
        {
         "module": "Python",
         "version": "3.9.13 64bit [MSC v.1916 64 bit (AMD64)]"
        },
        {
         "module": "IPython",
         "version": "7.31.1"
        },
        {
         "module": "OS",
         "version": "Windows 10 10.0.19045 SP0"
        },
        {
         "module": "Vpython",
         "version": "7.6.4"
        },
        {
         "module": "Numpy",
         "version": "1.21.5"
        }
       ]
      },
      "text/html": [
       "<table><tr><th>Software</th><th>Version</th></tr><tr><td>Python</td><td>3.9.13 64bit [MSC v.1916 64 bit (AMD64)]</td></tr><tr><td>IPython</td><td>7.31.1</td></tr><tr><td>OS</td><td>Windows 10 10.0.19045 SP0</td></tr><tr><td>Vpython</td><td>7.6.4</td></tr><tr><td>Numpy</td><td>1.21.5</td></tr><tr><td colspan='2'>Sat Dec 03 18:53:53 2022 Hora Padrão de Buenos Aires</td></tr></table>"
      ],
      "text/latex": [
       "\\begin{tabular}{|l|l|}\\hline\n",
       "{\\bf Software} & {\\bf Version} \\\\ \\hline\\hline\n",
       "Python & 3.9.13 64bit [MSC v.1916 64 bit (AMD64)] \\\\ \\hline\n",
       "IPython & 7.31.1 \\\\ \\hline\n",
       "OS & Windows 10 10.0.19045 SP0 \\\\ \\hline\n",
       "Vpython & 7.6.4 \\\\ \\hline\n",
       "Numpy & 1.21.5 \\\\ \\hline\n",
       "\\hline \\multicolumn{2}{|l|}{Sat Dec 03 18:53:53 2022 Hora Padrão de Buenos Aires} \\\\ \\hline\n",
       "\\end{tabular}\n"
      ],
      "text/plain": [
       "Software versions\n",
       "Python 3.9.13 64bit [MSC v.1916 64 bit (AMD64)]\n",
       "IPython 7.31.1\n",
       "OS Windows 10 10.0.19045 SP0\n",
       "Vpython 7.6.4\n",
       "Numpy 1.21.5\n",
       "Sat Dec 03 18:53:53 2022 Hora Padrão de Buenos Aires"
      ]
     },
     "execution_count": 2,
     "metadata": {},
     "output_type": "execute_result"
    }
   ],
   "source": [
    "%load_ext version_information\n",
    "%version_information Vpython, Numpy"
   ]
  },
  {
   "cell_type": "markdown",
   "id": "4750cace",
   "metadata": {},
   "source": [
    "**OBS**: não é necessário checar a versão da biblioteca random, pois ela é uma biblioteca nativa do Python, ou seja, a versão dela acompanha a versão do Python."
   ]
  },
  {
   "cell_type": "markdown",
   "id": "d60b330f",
   "metadata": {},
   "source": [
    "## 1. Introdução Teórica"
   ]
  },
  {
   "cell_type": "markdown",
   "id": "cb508f43",
   "metadata": {},
   "source": [
    "O movimento Browniano é o movimento aleatório das partículas de um fluido, no qual é resultante da colisão entres os átomos do fluido, tal fenômeno foi descoberto pelo médico botânico Robert Brown no século XIX. Com o passar dos anos foram levantadas muitas hipóteses a fim de explicar a causa desse fenômeno, porém apenas no século XX tal movimento foi explicado por Einstein."
   ]
  },
  {
   "cell_type": "markdown",
   "id": "0fef549c",
   "metadata": {},
   "source": [
    "### 1.1 Calculo do Movimento"
   ]
  },
  {
   "cell_type": "markdown",
   "id": "b0b032e4",
   "metadata": {},
   "source": [
    "Como o Movimento Browniano é aleatório, então para simplificar minha simulação usei a função `random`, na qual sorteia um valor entre $0$ e $1$ e multiplicando por $2\\pi$ podemos obter um valor $\\theta$ aleatório, assim podemos calcular o $sin(\\theta)$ e $cos(\\theta)$. Conseguinte, conseguimos o próximo movimento da partícula"
   ]
  },
  {
   "attachments": {
    "image-4.png": {
     "image/png": "[encoded data removed]"
    }
   },
   "cell_type": "markdown",
   "id": "12466f5d",
   "metadata": {},
   "source": [
    "![image-4.png](attachment:image-4.png)"
   ]
  },
  {
   "cell_type": "markdown",
   "id": "8a180581",
   "metadata": {},
   "source": [
    "$r(x,y) = (x_{t-1} + cos\\theta)\\hat i + (y_{t-1} + sin\\theta)\\hat j$\n",
    "\n",
    "\n",
    "$\\theta = 2\\pi n$, em que $n$ é a variável aleatória obtida pela função `random`."
   ]
  },
  {
   "cell_type": "markdown",
   "id": "73b8ab8d",
   "metadata": {},
   "source": [
    "## 2. Simulação do Movimento Browniano com uma partícula em 2D"
   ]
  },
  {
   "cell_type": "markdown",
   "id": "69c55ace",
   "metadata": {},
   "source": [
    "### 2.1 Definindo a Grade"
   ]
  },
  {
   "cell_type": "markdown",
   "id": "bfe92be8",
   "metadata": {},
   "source": [
    "Para começarmos a pensar na simulação, primeiro vamos definir uma função para gerar uma grade 2D, esta função servirá tanto para esta seção quanto apra próxima."
   ]
  },
  {
   "cell_type": "code",
   "execution_count": 3,
   "id": "16f65b50",
   "metadata": {},
   "outputs": [],
   "source": [
    "def grid_2D(tmax, dt):\n",
    "    for t in range(-tmax, tmax+dt, dt):\n",
    "        curve(pos = [vector(t,tmax,0), vector(t,-tmax,0)])\n",
    "        curve(pos = [vector(tmax,t,0), vector(-tmax,t,0)])\n",
    "    return"
   ]
  },
  {
   "cell_type": "markdown",
   "id": "d8ce3138",
   "metadata": {},
   "source": [
    "### 2.2 Posição da Partícula"
   ]
  },
  {
   "cell_type": "markdown",
   "id": "58f10150",
   "metadata": {},
   "source": [
    "Primeiro vamos definir os limites da grade como $g$, e depois para escolher a posição inicial da partícula usarei o comando `randrange`, na qual sorteará um valor inteiro entre os limites da grade tanto no eixo $x$ quanto no eixo $y$. Assim definirei uma função para retornar os valores sorteados em $x_i$ e para $y_i$."
   ]
  },
  {
   "cell_type": "code",
   "execution_count": 4,
   "id": "07d7c602",
   "metadata": {},
   "outputs": [],
   "source": [
    "def fpos_i_2D():\n",
    "    # a variável g é o limite da grade\n",
    "    global g\n",
    "    xi = ran.randrange(-g,g) \n",
    "    yi = ran.randrange(-g,g)\n",
    "    return xi, yi"
   ]
  },
  {
   "cell_type": "markdown",
   "id": "c54dcd67",
   "metadata": {},
   "source": [
    "Vou agora definir uma função para gerar a partícula de raio $0.5$ em sua posíção inicial obtida em `fpos_i_2D`, para isso usarei o comando `sphere` no qual irá plotar uma esfera que representará a partícula. Conseguinte, temos que criar uma função vai receber $x_i$ e $y_i$ e plotará da partícula na grade, além de retorna a variável $par$, pois com ela poderemos ter acesso direto as informações da esfera, como posição, cor, entre outros."
   ]
  },
  {
   "cell_type": "code",
   "execution_count": 5,
   "id": "f42e2989",
   "metadata": {},
   "outputs": [],
   "source": [
    "def fpar_2D(xi, yi):\n",
    "    global g\n",
    "    canvas(title = 'Simulação do Movimento Browniano com uma partícula', width = 500, height = 500,background = color.white)\n",
    "    grid_2D(g,1)\n",
    "    par = sphere(pos = vector(xi, yi, 0), radius=0.5, color = color.green)\n",
    "        \n",
    "    return par"
   ]
  },
  {
   "cell_type": "markdown",
   "id": "0afcfc5f",
   "metadata": {},
   "source": [
    "Agora iremos definir uma função que mudará a posição da partícula aleatóriamente em um tempo $t$, onde equela não pode passar dos limites da grade. Assim, caso ela for ultrapassar os limites da grade faremos $x(t) = x_{t-1} - cos(\\theta)$ e analogamente faremo com o mesmo com $y(t)$. Assim para que essa função mude a posição da partícula na animação, ela terá que receber as posição inicial da partícula e a variável $par$. Com isso para mudar a posição da partícula usarei o comando $par.pos$, pois com esse comando teremos acesso a posição da esgfera e poderemos mudar sua posição."
   ]
  },
  {
   "cell_type": "code",
   "execution_count": 6,
   "id": "c216f17d",
   "metadata": {},
   "outputs": [],
   "source": [
    "def fpos_2D(x, y, par):\n",
    "    global t, g\n",
    "    for i in range(t):\n",
    "        rate(10)\n",
    "        theta = random()*2*pi\n",
    "        \n",
    "        if (x + cos(theta) > -g and x + cos(theta) < g):\n",
    "            x += cos(theta)\n",
    "        else:\n",
    "            x -= cos(theta)\n",
    "        if (y + sin(theta) > -g and y + sin(theta) < g):\n",
    "            y += sin(theta)\n",
    "        else:\n",
    "            y -= sin(theta)\n",
    "        \n",
    "        par.pos = vector(x, y , 0)\n",
    "        \n",
    "    return"
   ]
  },
  {
   "cell_type": "markdown",
   "id": "805ac88c",
   "metadata": {},
   "source": [
    "### 2.3 Plotagem"
   ]
  },
  {
   "cell_type": "markdown",
   "id": "87acc256",
   "metadata": {},
   "source": [
    "Para plotagem bastamos chamar a funções nesta ordem `fpos_i_2D`, `fpar_2D` e `fpos_2D`, usarei uma grade $20x20$."
   ]
  },
  {
   "cell_type": "code",
   "execution_count": 7,
   "id": "01d48ff2",
   "metadata": {},
   "outputs": [
    {
     "data": {
      "text/html": [
       "<div id=\"glowscript\" class=\"glowscript\"></div>"
      ],
      "text/plain": [
       "<IPython.core.display.HTML object>"
      ]
     },
     "metadata": {},
     "output_type": "display_data"
    },
    {
     "data": {
      "application/javascript": [
       "if (typeof Jupyter !== \"undefined\") { window.__context = { glowscript_container: $(\"#glowscript\").removeAttr(\"id\")};}else{ element.textContent = ' ';}"
      ],
      "text/plain": [
       "<IPython.core.display.Javascript object>"
      ]
     },
     "metadata": {},
     "output_type": "display_data"
    },
    {
     "data": {
      "application/javascript": [
       "if (typeof Jupyter !== \"undefined\") {require.undef(\"nbextensions/vpython_libraries/glow.min\");}else{element.textContent = ' ';}"
      ],
      "text/plain": [
       "<IPython.core.display.Javascript object>"
      ]
     },
     "metadata": {},
     "output_type": "display_data"
    },
    {
     "data": {
      "application/javascript": [
       "if (typeof Jupyter !== \"undefined\") {require.undef(\"nbextensions/vpython_libraries/glowcomm\");}else{element.textContent = ' ';}"
      ],
      "text/plain": [
       "<IPython.core.display.Javascript object>"
      ]
     },
     "metadata": {},
     "output_type": "display_data"
    },
    {
     "data": {
      "application/javascript": [
       "if (typeof Jupyter !== \"undefined\") {require.undef(\"nbextensions/vpython_libraries/jquery-ui.custom.min\");}else{element.textContent = ' ';}"
      ],
      "text/plain": [
       "<IPython.core.display.Javascript object>"
      ]
     },
     "metadata": {},
     "output_type": "display_data"
    },
    {
     "data": {
      "application/javascript": [
       "if (typeof Jupyter !== \"undefined\") {require([\"nbextensions/vpython_libraries/glow.min\"], function(){console.log(\"GLOW LOADED\");});}else{element.textContent = ' ';}"
      ],
      "text/plain": [
       "<IPython.core.display.Javascript object>"
      ]
     },
     "metadata": {},
     "output_type": "display_data"
    },
    {
     "data": {
      "application/javascript": [
       "if (typeof Jupyter !== \"undefined\") {require([\"nbextensions/vpython_libraries/glowcomm\"], function(){console.log(\"GLOWCOMM LOADED\");});}else{element.textContent = ' ';}"
      ],
      "text/plain": [
       "<IPython.core.display.Javascript object>"
      ]
     },
     "metadata": {},
     "output_type": "display_data"
    },
    {
     "data": {
      "application/javascript": [
       "if (typeof Jupyter !== \"undefined\") {require([\"nbextensions/vpython_libraries/jquery-ui.custom.min\"], function(){console.log(\"JQUERY LOADED\");});}else{element.textContent = ' ';}"
      ],
      "text/plain": [
       "<IPython.core.display.Javascript object>"
      ]
     },
     "metadata": {},
     "output_type": "display_data"
    }
   ],
   "source": [
    "g = 10\n",
    "t = 10\n",
    "xi, yi = fpos_i_2D()\n",
    "par = fpar_2D(xi, yi)\n",
    "fpos_2D(xi, yi, par)"
   ]
  },
  {
   "cell_type": "markdown",
   "id": "104533e0",
   "metadata": {},
   "source": [
    "## 3. Simulação do Movimento Browniano com várias partículas em 2D"
   ]
  },
  {
   "cell_type": "markdown",
   "id": "5d51391b",
   "metadata": {},
   "source": [
    "## 3.1 Posições das partículas"
   ]
  },
  {
   "cell_type": "markdown",
   "id": "20723553",
   "metadata": {},
   "source": [
    "Para simular o Movimento Browniano com $n$ partículas, encontramos o problema que elas não podem coexistir na mesma posição. Então para definir a função da posição inicial, ela terá os mesmos princípios da função `fpos_i_2D` da seção anterior, porém ela terá que retornar as listas $x[n]$ e $y[n]$ com as posições iniciais de todas as partículas, onde os índices das listas correspondem a uma partícula, ou seja, o $x[0]$ e $y[0]$ correspendem a posição da partícula $0$. Além disso, para gerar uma posição de uma partícula a função deverá verificar se a posição dessa é igual a alguma das anteriores, se sim, a função deve gerer outra posição, até que todas as partículas sejam plotadas com uma posição inicial diferente."
   ]
  },
  {
   "cell_type": "code",
   "execution_count": 8,
   "id": "3022605d",
   "metadata": {},
   "outputs": [],
   "source": [
    "def fpos_i_2D():\n",
    "    global n, g\n",
    "    x, y = [], [] # criando as listas das posições\n",
    "    \n",
    "    for i in range(n):\n",
    "        cont = 0\n",
    "        tempx = ran.randrange(-g,g) #sorteando posição xi\n",
    "        tempy = ran.randrange(-g,g) #sorteando posição yi\n",
    "\n",
    "        if i==0: #faço isso porque se i=0, então eu estou gerando a posição inicial da primeira partícula, \n",
    "                 #logo não  há possibilidade de coexistir com  outra, apenas apartir da segudna que terei esse problema\n",
    "            x.append(tempx)\n",
    "            y.append(tempy)\n",
    "\n",
    "        else:\n",
    "            for q in range(i): #verificando da posição das partículas\n",
    "                if tempx == x[q] and tempy == y[q]:\n",
    "                    cont += 1\n",
    "                    ind = q\n",
    "\n",
    "            if cont == 1:\n",
    "                while tempx == x[ind] and  tempy == y[ind]: #sorteando uma nova posição\n",
    "                    tempx = ran.randrange(-g,g)\n",
    "                    tempy = ran.randrange(-g,g)\n",
    "                x.append(tempx)\n",
    "                y.append(tempy)\n",
    "\n",
    "            else:\n",
    "                x.append(tempx)\n",
    "                y.append(tempy)\n",
    "    return x, y"
   ]
  },
  {
   "cell_type": "markdown",
   "id": "f5891cfa",
   "metadata": {},
   "source": [
    "Agora vamos fazer uma função para plotar as partículas em sua posição inicial, esta também possui o mesmo principio da função `fpar_2D`da seção anterior, porém em vez de $par$ ser uma variável nesta função ele será uma lista com $n$ elementos, e cada elemento terá a informação de uma partícula."
   ]
  },
  {
   "cell_type": "code",
   "execution_count": 9,
   "id": "d75bbb1e",
   "metadata": {},
   "outputs": [],
   "source": [
    "def fpar_2D(x, y):\n",
    "    global n, g\n",
    "    canvas(title = 'Simulação do Movimento Browniano com várias partículas', width = 500, height = 500,background = color.white)\n",
    "    grid_2D(g,1)\n",
    "    par = []\n",
    "    for i in range(n):\n",
    "        par.append(sphere(pos = vector(x[i], y[i], 0), radius=0.5, color = color.green))\n",
    "        \n",
    "    return par"
   ]
  },
  {
   "cell_type": "markdown",
   "id": "68e180e8",
   "metadata": {},
   "source": [
    "Agora vou definir uma função para variar a posição das partículas, porém teremos que resolver o problema delas não poderem coexitir no mesmo lugar, para isso verificarei sua nova posição de uma partícula com as novas posições geradas da partículas anteriores, assim caso essa distância entre ela seja menor um (usei esse fator porque o raio de cada partícula é $0.5$, assim duas partículas começam a se encostar quando a distância entre elas é menor do que $1$), chamarei a  função `corretor_2D` que irá gerar uma nova posição para essa partícula."
   ]
  },
  {
   "cell_type": "code",
   "execution_count": 10,
   "id": "02433db3",
   "metadata": {},
   "outputs": [],
   "source": [
    "def fpos_2D(x, y, par):\n",
    "    global n, t, g\n",
    "    \n",
    "    for J in range(t):\n",
    "        rate(10)\n",
    "        for i in range(n):\n",
    "            theta = ran.random()*2*pi\n",
    "            r = [x[i], y[i]]\n",
    "            \n",
    "            # encontrando a nova posição em x \n",
    "            if (r[0] + cos(theta) > -g and r[0] + cos(theta) < g):\n",
    "                r[0] += cos(theta)\n",
    "            else:\n",
    "                r[0] -= cos(theta)\n",
    "                \n",
    "            # encontrando a nova posição em y\n",
    "            if (r[1] + sin(theta) > -g and r[1] + sin(theta) < g):\n",
    "                r[1] += sin(theta)\n",
    "            else:\n",
    "                r[1] -= sin(theta)\n",
    "            \n",
    "            #verificando a posição das partículas\n",
    "            if i!=0:\n",
    "                for q in range(i):\n",
    "                    while abs(r[0]-x[q])<1 and abs(r[1]-y[q])<1:\n",
    "                        r = corretor_2D(x[i], y[i])\n",
    "            x[i] = r[0]\n",
    "            y[i] =  r[1]\n",
    "            par[i].pos = vector(r[0], r[1] , 0)\n",
    "    return"
   ]
  },
  {
   "cell_type": "markdown",
   "id": "b810c189",
   "metadata": {},
   "source": [
    "Definindo a função `corretor_2D`, em que apenas irá sortear uma nova posição para a partícula."
   ]
  },
  {
   "cell_type": "code",
   "execution_count": 11,
   "id": "e2e60ca9",
   "metadata": {},
   "outputs": [],
   "source": [
    "def corretor_2D(x, y):\n",
    "    theta = ran.random()*2*pi\n",
    "    r = [x, y]\n",
    "    \n",
    "    if (r[0] + cos(theta) > -g and r[0] + cos(theta) < g):\n",
    "        r[0] += cos(theta)\n",
    "    else:\n",
    "        r[0] -= cos(theta)\n",
    "\n",
    "    if (r[1] + sin(theta) > -g and r[1] + sin(theta) < g):\n",
    "        r[1] += sin(theta)\n",
    "    else:\n",
    "        r[1] -= sin(theta)\n",
    "        \n",
    "    return r"
   ]
  },
  {
   "cell_type": "markdown",
   "id": "351104bc",
   "metadata": {},
   "source": [
    "### 3.2 Plotagem"
   ]
  },
  {
   "cell_type": "markdown",
   "id": "26634c81",
   "metadata": {},
   "source": [
    "Para potagem basta chaamr a função na mesma ordem que a da seção anterior, nessa plotagem usarei uma grade $20x20$ e $30$ partículas."
   ]
  },
  {
   "cell_type": "code",
   "execution_count": 12,
   "id": "31382985",
   "metadata": {
    "scrolled": false
   },
   "outputs": [
    {
     "data": {
      "text/html": [
       "<div id=\"glowscript\" class=\"glowscript\"></div>"
      ],
      "text/plain": [
       "<IPython.core.display.HTML object>"
      ]
     },
     "metadata": {},
     "output_type": "display_data"
    },
    {
     "data": {
      "application/javascript": [
       "if (typeof Jupyter !== \"undefined\") { window.__context = { glowscript_container: $(\"#glowscript\").removeAttr(\"id\")};}else{ element.textContent = ' ';}"
      ],
      "text/plain": [
       "<IPython.core.display.Javascript object>"
      ]
     },
     "metadata": {},
     "output_type": "display_data"
    }
   ],
   "source": [
    "g, n = 10, 30\n",
    "t = 10\n",
    "pos_x, pos_y = fpos_i_2D()\n",
    "par = fpar_2D(pos_x, pos_y)\n",
    "fpos_2D(pos_x, pos_y, par)"
   ]
  },
  {
   "cell_type": "markdown",
   "id": "a8a72bc7",
   "metadata": {},
   "source": [
    "## 4. Simulação Movimento Browniano em 3D"
   ]
  },
  {
   "cell_type": "markdown",
   "id": "8ed597c5",
   "metadata": {},
   "source": [
    "### 4.1 Definindo a Grade"
   ]
  },
  {
   "cell_type": "markdown",
   "id": "64d98a7a",
   "metadata": {},
   "source": [
    "Para fazer a Simulação em 3D temos que definir uma função para gerar uma grade em 3D - `grid_3D`, esta função servirá tanto para está seção quanto para as próximas."
   ]
  },
  {
   "cell_type": "code",
   "execution_count": 3,
   "id": "2049d71a",
   "metadata": {},
   "outputs": [],
   "source": [
    "def grid_3D(tmax, dt):\n",
    "    for t in range(-tmax, tmax+dt, dt):\n",
    "        \n",
    "        curve(pos = [vector(t,tmax,-tmax), vector(t,-tmax,-tmax)])\n",
    "        curve(pos = [vector(t,-tmax,tmax), vector(t,-tmax,-tmax)])\n",
    "        curve(pos = [vector(t,tmax,tmax), vector(t,tmax,-tmax)])\n",
    "        \n",
    "        curve(pos = [vector(tmax,t,-tmax), vector(-tmax,t,-tmax)])\n",
    "        curve(pos = [vector(-tmax,t,tmax), vector(-tmax,t,-tmax)])\n",
    "        \n",
    "        curve(pos = [vector(tmax,-tmax,t), vector(-tmax,-tmax,t)])\n",
    "        curve(pos = [vector(-tmax,tmax,t), vector(-tmax,-tmax,t)])\n",
    "        curve(pos = [vector(tmax,tmax,t), vector(-tmax,tmax,t)])\n",
    "        \n",
    "    return"
   ]
  },
  {
   "cell_type": "markdown",
   "id": "1062288b",
   "metadata": {},
   "source": [
    "### 4.2 Adaptando as Funções das Posições de 2D para 3D"
   ]
  },
  {
   "cell_type": "markdown",
   "id": "578b41c3",
   "metadata": {},
   "source": [
    "Primeiramente vamos adaptar a função da posição inicial para três dimesões, para isso bastamos fazer o mesmo processo porém vamos sotear um valor para $zi$ e armazenar numa lista $z[n]$, assim teremos"
   ]
  },
  {
   "cell_type": "code",
   "execution_count": 4,
   "id": "cdcd3a23",
   "metadata": {},
   "outputs": [],
   "source": [
    "def pos_i_3D():\n",
    "    global n, g\n",
    "    x, y, z = [], [], []\n",
    "    \n",
    "    for i in range(n):\n",
    "        count = 0\n",
    "        #sorteando posições\n",
    "        tempx = ran.randrange(-g,g)\n",
    "        tempy = ran.randrange(-g,g)\n",
    "        tempz = ran.randrange(-g,g)\n",
    "        \n",
    "        if i==0:\n",
    "            x.append(tempx)\n",
    "            y.append(tempy)\n",
    "            z.append(tempz)\n",
    "        else:\n",
    "            #verificando se a posição das partículas é igual alguma outra\n",
    "            for q in range(i):\n",
    "                if tempx == x[q] and tempy == y[q] and tempz == z[q]:\n",
    "                    count += 1\n",
    "                    ind = q\n",
    "\n",
    "            if count == 1:\n",
    "                #sorteando uma nova posição para a partícula\n",
    "                while tempx == x[ind] and  tempy == y[ind] and tempz == z[ind]:\n",
    "                    tempx = ran.randrange(-g,g)\n",
    "                    tempy = ran.randrange(-g,g)\n",
    "                    tempz = ran.randrange(-g,g)\n",
    "                x.append(tempx)\n",
    "                y.append(tempy)\n",
    "                z.append(tempz)\n",
    "\n",
    "            else:\n",
    "                x.append(tempx)\n",
    "                y.append(tempy)\n",
    "                z.append(tempz)\n",
    "    return x, y, z"
   ]
  },
  {
   "cell_type": "markdown",
   "id": "e37bb190",
   "metadata": {},
   "source": [
    "Para adptar a função `fpar_2D` para `fpar_3D`, basta agora adicionar o eixo $z$ que antes não tinha."
   ]
  },
  {
   "cell_type": "code",
   "execution_count": 15,
   "id": "2278eed1",
   "metadata": {},
   "outputs": [],
   "source": [
    "def fpar_3D(x, y, z):\n",
    "    global n, g\n",
    "    canvas(title = 'Movimento Browniano', width = 500, height = 500,background = color.white)\n",
    "    grid_3D(g,1)\n",
    "    par = []\n",
    "    for i in range(n):\n",
    "        par.append(sphere(pos = vector(x[i], y[i], z[i]),radius=0.5, color = color.green))\n",
    "        \n",
    "    return par"
   ]
  },
  {
   "cell_type": "markdown",
   "id": "80d63f7c",
   "metadata": {},
   "source": [
    "Para agora adptar a função `fpos_2D` para `fpos_3D` há um problema, pois não podemos usar o mesmo ângulo aleatório para a variável $z$ porque o tal variável é perpendicular ao plano $xy$, assim temos que usar um novo ângulo aletatório $\\varphi$ para a variável $z$."
   ]
  },
  {
   "attachments": {
    "image-2.png": {
     "image/png": "[encoded data removed]"
    }
   },
   "cell_type": "markdown",
   "id": "b9a41c3c",
   "metadata": {},
   "source": [
    "![image-2.png](attachment:image-2.png)"
   ]
  },
  {
   "cell_type": "markdown",
   "id": "170388c8",
   "metadata": {},
   "source": [
    "$OBS$ : na imagem acima o $\\theta$ e o $\\phi$ estão trocados."
   ]
  },
  {
   "cell_type": "markdown",
   "id": "c4965d64",
   "metadata": {},
   "source": [
    "Com essa imagem podemos ver que $cos(\\varphi) = z/r$, onde $r = 1$, logo $$z=cos(\\varphi)$$\n",
    "\n",
    "Assim, $$r(x,y,z) = (x_{t-1} + cos\\theta)\\hat i + (y_{t-1} + sin\\theta)\\hat j + (z_{t-1} + cos(\\varphi))\\hat k$$\n",
    "\n",
    "Onde $\\varphi = 2\\pi n$, em que $n$ é um número alatório entre $0$ e $1$."
   ]
  },
  {
   "cell_type": "markdown",
   "id": "8ac58448",
   "metadata": {},
   "source": [
    "Agora com esses resultados, sabemos como aplicar o $\\varphi$ para a variável $z$ na função `fpos_3D`."
   ]
  },
  {
   "cell_type": "code",
   "execution_count": 16,
   "id": "f64feff8",
   "metadata": {},
   "outputs": [],
   "source": [
    "def fpos_3D(x, y, z, par):\n",
    "    global n, t, g\n",
    "    \n",
    "    for J in range(t):\n",
    "        rate(10)\n",
    "        for i in range(n):\n",
    "            theta = ran.random()*2*pi\n",
    "            phi = ran.random()*2*pi\n",
    "            r = [x[i], y[i], z[i]]\n",
    "            \n",
    "            # encontrando a nova posição em x\n",
    "            if (r[0] + cos(theta) > -g and r[0] + cos(theta) < g):\n",
    "                r[0] += cos(theta)\n",
    "            else:\n",
    "                r[0] -= cos(theta)\n",
    "                \n",
    "            # encontrando a nova posição em y\n",
    "            if (r[1] + sin(theta) > -g and r[1] + sin(theta) < g):\n",
    "                r[1] += sin(theta)\n",
    "            else:\n",
    "                r[1] -= sin(theta)\n",
    "               \n",
    "            #encontrando a nova posição de z\n",
    "            if (r[2] + cos(phi) > -g and r[2] + cos(phi) < g):\n",
    "                r[2] += cos(phi)\n",
    "            else:\n",
    "                r[2] -= cos(phi)\n",
    "            \n",
    "            #verificando a posição das partículas\n",
    "            if i!=0:\n",
    "                for q in range(i):\n",
    "                    while (abs(r[0]-x[q])<1 and abs(r[1]-y[q])<1 and abs(r[2]-z[q])<1):\n",
    "                        r = corretor_3D(x[i], y[i], z[i])\n",
    "            \n",
    "            x[i], y[i], z[i]= r[0], r[1], r[2]\n",
    "            par[i].pos = vector(r[0], r[1], r[2])\n",
    "    return"
   ]
  },
  {
   "cell_type": "markdown",
   "id": "db69c227",
   "metadata": {},
   "source": [
    "Agora vamos adptar a função `corretor_2D` para `corretor_3D`."
   ]
  },
  {
   "cell_type": "code",
   "execution_count": 17,
   "id": "48c4fcf5",
   "metadata": {},
   "outputs": [],
   "source": [
    "def corretor_3D(x, y, z):\n",
    "    theta = ran.random()*2*pi\n",
    "    phi = ran.random()*2*pi\n",
    "    r = [x, y, z]\n",
    "    \n",
    "    if (r[0] + cos(theta) > -g and r[0] + cos(theta) < g):\n",
    "        r[0] += cos(theta)\n",
    "    else:\n",
    "        r[0] -= cos(theta)\n",
    "\n",
    "    if (r[1] + sin(theta) > -g and r[1] + sin(theta) < g):\n",
    "        r[1] += sin(theta)\n",
    "    else:\n",
    "        r[1] -= sin(theta)\n",
    "        \n",
    "    if (r[2] + cos(phi) > -g and r[2] + cos(phi) < g):\n",
    "        r[2] += cos(phi)\n",
    "    else:\n",
    "        r[2] -= cos(phi)\n",
    "    \n",
    "    return r"
   ]
  },
  {
   "cell_type": "markdown",
   "id": "a6035028",
   "metadata": {},
   "source": [
    "### 4.3 Plotagem"
   ]
  },
  {
   "cell_type": "markdown",
   "id": "38ae608b",
   "metadata": {},
   "source": [
    "Para plotar a animação basta chamar as funções `pos_i_3D`, `fpar_3D` e `fpos_3D`, respectivamente. Usarei uma grade $12x12x12$ e $40$ partículas."
   ]
  },
  {
   "cell_type": "code",
   "execution_count": 18,
   "id": "9397a0e9",
   "metadata": {},
   "outputs": [
    {
     "data": {
      "text/html": [
       "<div id=\"glowscript\" class=\"glowscript\"></div>"
      ],
      "text/plain": [
       "<IPython.core.display.HTML object>"
      ]
     },
     "metadata": {},
     "output_type": "display_data"
    },
    {
     "data": {
      "application/javascript": [
       "if (typeof Jupyter !== \"undefined\") { window.__context = { glowscript_container: $(\"#glowscript\").removeAttr(\"id\")};}else{ element.textContent = ' ';}"
      ],
      "text/plain": [
       "<IPython.core.display.Javascript object>"
      ]
     },
     "metadata": {},
     "output_type": "display_data"
    }
   ],
   "source": [
    "g, n = 6, 40\n",
    "t = 10\n",
    "pos_x, pos_y, pos_z = pos_i_3D()\n",
    "par = fpar_3D(pos_x, pos_y, pos_z)\n",
    "fpos_3D(pos_x, pos_y, pos_z, par)"
   ]
  },
  {
   "cell_type": "markdown",
   "id": "f24cc1e4",
   "metadata": {},
   "source": [
    "## 5. Simulação do Movimento Browniano com uma Molécula diatômica 3D"
   ]
  },
  {
   "cell_type": "markdown",
   "id": "1ef2af79",
   "metadata": {},
   "source": [
    "### 4.1 Posição das Partículas"
   ]
  },
  {
   "cell_type": "markdown",
   "id": "5d5656c5",
   "metadata": {},
   "source": [
    "Primeiramente vamos adaptar a função das partículas, pois agora devemos plotar duas partículas. Para essa função decidi que a segunda molécula iria ficar inicialmente a $0.5$ de distância em cada eixo."
   ]
  },
  {
   "cell_type": "code",
   "execution_count": 5,
   "id": "fc67fe1d",
   "metadata": {},
   "outputs": [],
   "source": [
    "def fpar_3D_Dia(x, y, z):\n",
    "    global n, g\n",
    "    canvas(title = 'Movimento Browniano', width = 500, height = 500,background = color.white)\n",
    "    grid_3D(g,1)\n",
    "    par = []\n",
    "    par2 = []\n",
    "    for i in range(n):\n",
    "        par.append(sphere(pos = vector(x[i], y[i], z[i]),radius=0.5, color = color.green))\n",
    "        par2.append(sphere(pos = vector(x[i]+0.5, y[i]+0.5, z[i]+0.5),radius=0.5, color = color.blue))\n",
    "    return par, par2"
   ]
  },
  {
   "cell_type": "markdown",
   "id": "6e8b4a66",
   "metadata": {},
   "source": [
    "Agora vamos definir a função que vai mudar a posição das partículas, aqui devemos ter mais cuidado pois com agora as partículas são diatômicas devemos ter cuidado com elas ocupando a mesma posição. Adaptando da função `fpos_3D` irei adcionar criar novos 3 arrays, que irãa armazenar as posições das segundas partículas"
   ]
  },
  {
   "cell_type": "code",
   "execution_count": 18,
   "id": "fd6c44f1",
   "metadata": {},
   "outputs": [],
   "source": [
    "def fpos_3D_Dia(x, y, z, par, par2):\n",
    "    global n, N, g\n",
    "    x2, y2, z2 = np.zeros(n), np.zeros(n), np.zeros(n)\n",
    "    \n",
    "    for j in range(N):\n",
    "        rate(10)\n",
    "        for i in range(n):\n",
    "            theta = ran.random()*2*pi\n",
    "            phi = ran.random()*2*pi\n",
    "            r = [x[i], y[i], z[i]]\n",
    "            \n",
    "            # encontrando a nova posição em x\n",
    "            if (r[0] + cos(theta) > -g and r[0] + cos(theta) < g):\n",
    "                r[0] += cos(theta)\n",
    "            else:\n",
    "                r[0] -= cos(theta)\n",
    "                \n",
    "            # encontrando a nova posição em y\n",
    "            if (r[1] + sin(theta) > -g and r[1] + sin(theta) < g):\n",
    "                r[1] += sin(theta)\n",
    "            else:\n",
    "                r[1] -= sin(theta)\n",
    "                \n",
    "            if (r[2] + cos(phi) > -g and r[2] + cos(phi) < g):\n",
    "                r[2] += cos(phi)\n",
    "            else:\n",
    "                r[2] -= cos(phi)\n",
    "                \n",
    "            if i!=0:\n",
    "                for q in range(i):\n",
    "                    while abs(r[0]-x[q])<1 and abs(r[1]-y[q])<1 and abs(r[2]-z[q])<1:\n",
    "                        r = corretor_3D_Dia(x[i],y[i],z[i])\n",
    "            \n",
    "            x[i], y[i], z[i]= r[0], r[1], r[2]\n",
    "            par[i].pos = vector(r[0] ,r[1] , r[2])\n",
    "            \n",
    "            omega = 2*pi*ran.random()\n",
    "            phi2 = 2*pi*ran.random()\n",
    "            r2 = [x[i], y[i], z[i]]\n",
    "            \n",
    "            if (r2[0] + cos(omega) > -g and r2[0] + cos(omega) < g):\n",
    "                r2[0] += cos(omega)\n",
    "            else:\n",
    "                r[0] -= cos(omega)\n",
    "                \n",
    "            # encontrando a nova posição em y\n",
    "            if (r2[1] + sin(omega) > -g and r2[1] + sin(omega) < g):\n",
    "                r2[1] += sin(omega)\n",
    "            else:\n",
    "                r2[1] -= sin(omega)\n",
    "                \n",
    "            #encontrando a nova posição em z\n",
    "            if (r2[2] + cos(phi2) > -g and r2[2] + cos(phi2) < g):\n",
    "                r2[2] += cos(phi2)\n",
    "            else:\n",
    "                r2[2] -= cos(phi2)\n",
    "                \n",
    "            if i!=0:\n",
    "                for q in range(i):\n",
    "                    while abs(r2[0]-x2[q])<1 and abs(r2[1]-y2[q])<1 and abs(r2[2]-z2[q])<1:\n",
    "                        r2 = corretor_3D_Dia(x[i],y[i],z[i])\n",
    "            \n",
    "            x2[i], y2[i], z2[i] = r2[0], r2[1], r2[2]\n",
    "            par2[i].pos = vector(r2[0], r2[1],  r2[2])\n",
    "    return"
   ]
  },
  {
   "cell_type": "code",
   "execution_count": 19,
   "id": "b1879368",
   "metadata": {},
   "outputs": [],
   "source": [
    "def corretor_3D_Dia(x,y,z):\n",
    "    \n",
    "    theta = ran.random()*2*pi\n",
    "    phi = ran.random()*2*pi\n",
    "    \n",
    "    r = [x, y, z]\n",
    "    \n",
    "    if (r[0] + cos(theta) > -g and r[0] + cos(theta) < g):\n",
    "        r[0] += cos(theta)\n",
    "    else:\n",
    "        r[0] -= cos(theta)\n",
    "                \n",
    "    # encontrando a nova posição em y\n",
    "    if (r[1] + sin(theta) > -g and r[1] + sin(theta) < g):\n",
    "        r[1] += sin(theta)\n",
    "    else:\n",
    "        r[1] -= sin(theta)\n",
    "                \n",
    "    if (r[2] + cos(phi) > -g and r[2] + cos(phi) < g):\n",
    "        r[2] += cos(phi)\n",
    "    else:\n",
    "        r[2] -= cos(phi)\n",
    "    \n",
    "    return r"
   ]
  },
  {
   "cell_type": "code",
   "execution_count": 20,
   "id": "d7f4bbf8",
   "metadata": {},
   "outputs": [],
   "source": [
    "def corretor_3D_Dia2(x,y,z):\n",
    "    omega = 2*pi*ran.random()\n",
    "    r2 = [x,y,z]\n",
    "    if (r2[0] + cos(omega) > -g and r2[0] + cos(omega) < g):\n",
    "        r2[0] += cos(omega)\n",
    "    else:\n",
    "        r2[0] -= cos(omega)\n",
    "                \n",
    "    # encontrando a nova posição em y\n",
    "    if (r2[1] + sin(omega) > -g and r2[1] + sin(omega) < g):\n",
    "        r2[1] += sin(omega)\n",
    "    else:\n",
    "        r2[1] -= sin(omega)\n",
    "    \n",
    "    return r2"
   ]
  },
  {
   "cell_type": "code",
   "execution_count": 21,
   "id": "e390f36e",
   "metadata": {},
   "outputs": [
    {
     "data": {
      "text/html": [
       "<div id=\"glowscript\" class=\"glowscript\"></div>"
      ],
      "text/plain": [
       "<IPython.core.display.HTML object>"
      ]
     },
     "metadata": {},
     "output_type": "display_data"
    },
    {
     "data": {
      "application/javascript": [
       "if (typeof Jupyter !== \"undefined\") { window.__context = { glowscript_container: $(\"#glowscript\").removeAttr(\"id\")};}else{ element.textContent = ' ';}"
      ],
      "text/plain": [
       "<IPython.core.display.Javascript object>"
      ]
     },
     "metadata": {},
     "output_type": "display_data"
    }
   ],
   "source": [
    "g, n, N = 10, 40, 100\n",
    "x, y, z = pos_i_3D()\n",
    "par, par2 = fpar_3D_Dia(x, y, z)\n",
    "fpos_3D_Dia(x, y, z, par, par2)"
   ]
  },
  {
   "cell_type": "code",
   "execution_count": null,
   "id": "012388c3",
   "metadata": {},
   "outputs": [],
   "source": []
  }
 ],
 "metadata": {
  "kernelspec": {
   "display_name": "Python 3 (ipykernel)",
   "language": "python",
   "name": "python3"
  },
  "language_info": {
   "codemirror_mode": {
    "name": "ipython",
    "version": 3
   },
   "file_extension": ".py",
   "mimetype": "text/x-python",
   "name": "python",
   "nbconvert_exporter": "python",
   "pygments_lexer": "ipython3",
   "version": "3.9.13"
  }
 },
 "nbformat": 4,
 "nbformat_minor": 5
}
